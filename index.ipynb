{
 "cells": [
  {
   "cell_type": "markdown",
   "metadata": {},
   "source": [
    "# In Depth A/B Testing - Lab\n",
    "\n",
    "## Introduction\n",
    "\n",
    "In this lab, you'll explore a survey from Kaggle regarding budding data scientists. With this, you'll form some initial hypotheses, and test them using the tools you've acquired to date. \n",
    "\n",
    "## Objectives\n",
    "\n",
    "You will be able to:\n",
    "* Conduct t-tests and an ANOVA on a real-world dataset and interpret the results"
   ]
  },
  {
   "cell_type": "markdown",
   "metadata": {},
   "source": [
    "## Load the Dataset and Perform a Brief Exploration\n",
    "\n",
    "The data is stored in a file called **multipleChoiceResponses_cleaned.csv**. Feel free to check out the original dataset referenced at the bottom of this lab, although this cleaned version will undoubtedly be easier to work with. Additionally, meta-data regarding the questions is stored in a file name **schema.csv**. Load in the data itself as a Pandas DataFrame, and take a moment to briefly get acquainted with it.\n",
    "\n",
    "> Note: If you can't get the file to load properly, try changing the encoding format as in `encoding='latin1'`"
   ]
  },
  {
   "cell_type": "code",
   "execution_count": 232,
   "metadata": {},
   "outputs": [
    {
     "name": "stderr",
     "output_type": "stream",
     "text": [
      "/opt/anaconda3/lib/python3.7/site-packages/IPython/core/interactiveshell.py:3058: DtypeWarning: Columns (1,2,3,4,5,6,7,8,9,10,11,12,13,14,15,16,17,18,19,20,21,22,23,24,25,26,27,28,29,30,31,32,33,34,35,36,37,38,39,40,41,42,43,44,45,46,47,48,49,50,51,52,53,54,55,56,57,58,65,66,67,68,69,70,71,72,73,74,75,76,77,78,79,80,81,82,83,84,85,86,87,88,89,90,91,92,93,94,95,96,97,98,99,100,101,102,103,104,105,106,107,108,109,110,111,112,113,114,115,116,117,118,119,120,121,122,123,124,125,126,127,128,129,130,131,132,133,134,135,136,137,138,139,140,141,142,143,144,145,146,147,148,149,150,151,152,153,154,155,156,157,158,159,160,161,162,163,164,165,172,173,174,175,176,177,178,179,180,181,182,183,184,185,186,187,188,189,190,191,192,193,194,195,196,197,198,199,200,201,202,203,204,205,207,208,209,210,211,212,213,214,215,216,217,218,219,220,221,222,223,224,225,226,227) have mixed types. Specify dtype option on import or set low_memory=False.\n",
      "  interactivity=interactivity, compiler=compiler, result=result)\n"
     ]
    }
   ],
   "source": [
    "import pandas as pd\n",
    "import pandasql as ps\n",
    "import numpy as np\n",
    "import scipy.stats\n",
    "from flatiron_stats import welch_df,welch_t,p_value_welch_ttest\n",
    "\n",
    "df = pd.read_csv('multipleChoiceResponses_cleaned.csv')\n",
    "\n",
    "df1= df[['FormalEducation','AdjustedCompensation']].copy()\n",
    "\n",
    "\n",
    "q1 = \"\"\"\n",
    "SELECT *\n",
    "FROM df1\n",
    "WHERE FormalEducation = \"Bachelor's degree\"\n",
    "\"\"\"\n",
    "\n",
    "q2 = \"\"\"\n",
    "SELECT *\n",
    "FROM df1\n",
    "WHERE FormalEducation = \"Master's degree\"\n",
    "\"\"\"\n",
    "q3 = \"\"\"\n",
    "SELECT *\n",
    "FROM df1\n",
    "WHERE FormalEducation = \"Doctoral degree\" \n",
    "\"\"\"\n",
    "q1adj = \"\"\"\n",
    "SELECT *\n",
    "FROM df1\n",
    "WHERE FormalEducation = \"Bachelor's degree\" and \n",
    "AdjustedCompensation > 0 and AdjustedCompensation < 1000000\n",
    "\"\"\"\n",
    "\n",
    "q2adj = \"\"\"\n",
    "SELECT *\n",
    "FROM df1\n",
    "WHERE FormalEducation = \"Master's degree\" and\n",
    "AdjustedCompensation > 0 and AdjustedCompensation < 1000000\n",
    "\"\"\"\n",
    "q3adj = \"\"\"\n",
    "SELECT *\n",
    "FROM df1\n",
    "WHERE FormalEducation = \"Doctoral degree\" and \n",
    "AdjustedCompensation > 0 and AdjustedCompensation < 1000000\n",
    "\"\"\"\n",
    "\n",
    "sortedbac = ps.sqldf(q1)\n",
    "sortedbac = sortedbac.dropna()\n",
    "sortedmas = ps.sqldf(q2)\n",
    "sortedmas = sortedmas.dropna()\n",
    "sorteddoc = ps.sqldf(q3)\n",
    "sorteddoc = sorteddoc.dropna()\n",
    "sortedbacadj = ps.sqldf(q1adj)\n",
    "sortedbacadj = sortedbacadj.dropna()\n",
    "sortedmasadj = ps.sqldf(q2adj)\n",
    "sortedmasadj = sortedmasadj.dropna()\n",
    "sorteddocadj = ps.sqldf(q3adj)\n",
    "sorteddocadj = sorteddocadj.dropna()\n",
    "\n"
   ]
  },
  {
   "cell_type": "code",
   "execution_count": 233,
   "metadata": {},
   "outputs": [
    {
     "data": {
      "text/plain": [
       "11.76723361673775"
      ]
     },
     "execution_count": 233,
     "metadata": {},
     "output_type": "execute_result"
    }
   ],
   "source": [
    "a = np.array(sortedbac['AdjustedCompensation']) # a is bachelor\n",
    "b = np.array(sortedmas['AdjustedCompensation']) # b is master\n",
    "c = np.array(sorteddoc['AdjustedCompensation']) # c is doctoral\n",
    "d = np.array(sortedbacadj['AdjustedCompensation']) # a is bachelor adj\n",
    "e = np.array(sortedmasadj['AdjustedCompensation']) # b is master adj\n",
    "f = np.array(sorteddocadj['AdjustedCompensation']) # c is doctoral adj\n",
    "# bmean =  round(sortedbac['AdjustedCompensation'].mean(),2)\n",
    "# bstd =  round(sortedbac['AdjustedCompensation'].std(),2)\n",
    "# mmean = round(sortedmas['AdjustedCompensation'].mean(),2)\n",
    "# mstd\n",
    "welch_t(d,f)"
   ]
  },
  {
   "cell_type": "markdown",
   "metadata": {},
   "source": [
    "## Wages and Education\n",
    "\n",
    "You've been asked to determine whether education is impactful to salary. Develop a hypothesis test to compare the salaries of those with Master's degrees to those with Bachelor's degrees. Are the two statistically different according to your results?\n",
    "\n",
    "> Note: The relevant features are stored in the 'FormalEducation' and 'AdjustedCompensation' features.\n",
    "\n",
    "You may import the functions stored in the `flatiron_stats.py` file to help perform your hypothesis tests. It contains the stats functions that you previously coded: `welch_t(a,b)`, `welch_df(a, b)`, and `p_value(a, b, two_sided=False)`. \n",
    "\n",
    "Note that `scipy.stats.ttest_ind(a, b, equal_var=False)` performs a two-sided Welch's t-test and that p-values derived from two-sided tests are two times the p-values derived from one-sided tests. See the [documentation](https://docs.scipy.org/doc/scipy/reference/generated/scipy.stats.ttest_ind.html) for more information.    "
   ]
  },
  {
   "cell_type": "code",
   "execution_count": 234,
   "metadata": {},
   "outputs": [
    {
     "data": {
      "text/plain": [
       "0.43786693335411514"
      ]
     },
     "execution_count": 234,
     "metadata": {},
     "output_type": "execute_result"
    }
   ],
   "source": [
    "#H0 : The salary is the same for people who have a masters degree as people who have a bachelors degree\n",
    "#Ha : They are not the same\n",
    "welch_t(a,b)"
   ]
  },
  {
   "cell_type": "code",
   "execution_count": 235,
   "metadata": {},
   "outputs": [
    {
     "data": {
      "text/plain": [
       "1350.0828973008781"
      ]
     },
     "execution_count": 235,
     "metadata": {},
     "output_type": "execute_result"
    }
   ],
   "source": [
    "welch_df(a,b)"
   ]
  },
  {
   "cell_type": "code",
   "execution_count": 236,
   "metadata": {},
   "outputs": [
    {
     "data": {
      "text/plain": [
       "0.33077639451272445"
      ]
     },
     "execution_count": 236,
     "metadata": {},
     "output_type": "execute_result"
    }
   ],
   "source": [
    "p_value_welch_ttest(a, b, two_sided=False)"
   ]
  },
  {
   "cell_type": "markdown",
   "metadata": {},
   "source": [
    "## Wages and Education II\n",
    "\n",
    "Now perform a similar statistical test comparing the AdjustedCompensation of those with Bachelor's degrees and those with Doctorates. If you haven't already, be sure to explore the distribution of the AdjustedCompensation feature for any anomalies. "
   ]
  },
  {
   "cell_type": "code",
   "execution_count": 237,
   "metadata": {},
   "outputs": [
    {
     "data": {
      "text/plain": [
       "1107"
      ]
     },
     "execution_count": 237,
     "metadata": {},
     "output_type": "execute_result"
    }
   ],
   "source": [
    "import statistics as s\n",
    "s1 = s.median(list(c))\n",
    "s2 = s.median(list(a))\n",
    "len(a)\n",
    "p_value_welch_ttest(a, c, two_sided=False)\n",
    "len(a)\n"
   ]
  },
  {
   "cell_type": "code",
   "execution_count": 238,
   "metadata": {},
   "outputs": [
    {
     "data": {
      "text/plain": [
       "0.0"
      ]
     },
     "execution_count": 238,
     "metadata": {},
     "output_type": "execute_result"
    }
   ],
   "source": [
    "# def removeoutliers(array):   \n",
    "#     mean = np.mean(array)\n",
    "#     standard_deviation = np.std(array)\n",
    "#     distance_from_mean = abs(array - mean)\n",
    "#     max_deviations = 2\n",
    "#     not_outlier = distance_from_mean < max_deviations * standard_deviation\n",
    "#     no_outliers = array[not_outlier]\n",
    "#     return no_outliers\n",
    "# c_array = removeoutliers(c)\n",
    "# a_array = removeoutliers(a)\n",
    "\n",
    "\n",
    "p_value_welch_ttest(d, f, two_sided=False)\n",
    "\n"
   ]
  },
  {
   "cell_type": "code",
   "execution_count": 224,
   "metadata": {},
   "outputs": [],
   "source": [
    "\n",
    "\n",
    "# Median Values: \n",
    "# s1:74131.92 \n",
    "# s2:38399.4\n",
    "# Sample sizes: \n",
    "# s1: 967 \n",
    "# s2: 1107\n",
    "# Welch's t-test p-value: 0.1568238199472023\n",
    "\n",
    "\n",
    "# Repeated Test with Ouliers Removed:\n",
    "# Sample sizes: \n",
    "# s1: 964 \n",
    "# s2: 1103\n",
    "# Welch's t-test p-value with outliers removed: 0.0\n",
    "\n"
   ]
  },
  {
   "cell_type": "markdown",
   "metadata": {},
   "source": [
    "## Wages and Education III\n",
    "\n",
    "Remember the multiple comparisons problem; rather than continuing on like this, perform an ANOVA test between the various 'FormalEducation' categories and their relation to 'AdjustedCompensation'."
   ]
  },
  {
   "cell_type": "code",
   "execution_count": 246,
   "metadata": {},
   "outputs": [
    {
     "name": "stdout",
     "output_type": "stream",
     "text": [
      "F_onewayResult(statistic=0.28293500054527615, pvalue=0.5948221120110966)\n",
      "F_onewayResult(statistic=1.1635336047175568, pvalue=0.2808594595947254)\n",
      "F_onewayResult(statistic=140.86429977565842, pvalue=1.7960011262560295e-31)\n",
      "F_onewayResult(statistic=78.85867368470785, pvalue=2.554734506584201e-34)\n",
      "KruskalResult(statistic=171.64825258611825, pvalue=3.22984436924927e-39)\n"
     ]
    }
   ],
   "source": [
    "#Your code here\n",
    "print(scipy.stats.f_oneway(a,b)) #bachelors vs masters w/ outliers\n",
    "print(scipy.stats.f_oneway(a,c))# bachelors vs doctorate w/ outliers\n",
    "print(scipy.stats.f_oneway(d,f)) # bachelors vs doctorate outliers removed\n",
    "print(scipy.stats.f_oneway(d,e,f)) # all with outliers removed\n"
   ]
  },
  {
   "cell_type": "markdown",
   "metadata": {},
   "source": [
    "## Additional Resources\n",
    "\n",
    "Here's the original source where the data was taken from:  \n",
    "    [Kaggle Machine Learning & Data Science Survey 2017](https://www.kaggle.com/kaggle/kaggle-survey-2017)"
   ]
  },
  {
   "cell_type": "markdown",
   "metadata": {},
   "source": [
    "## Summary\n",
    "\n",
    "In this lab, you practiced conducting actual hypothesis tests on actual data. From this, you saw how dependent results can be on the initial problem formulation, including preprocessing!"
   ]
  }
 ],
 "metadata": {
  "kernelspec": {
   "display_name": "Python 3",
   "language": "python",
   "name": "python3"
  },
  "language_info": {
   "codemirror_mode": {
    "name": "ipython",
    "version": 3
   },
   "file_extension": ".py",
   "mimetype": "text/x-python",
   "name": "python",
   "nbconvert_exporter": "python",
   "pygments_lexer": "ipython3",
   "version": "3.7.4"
  },
  "toc": {
   "base_numbering": 1,
   "nav_menu": {},
   "number_sections": true,
   "sideBar": true,
   "skip_h1_title": false,
   "title_cell": "Table of Contents",
   "title_sidebar": "Contents",
   "toc_cell": false,
   "toc_position": {},
   "toc_section_display": true,
   "toc_window_display": false
  }
 },
 "nbformat": 4,
 "nbformat_minor": 4
}
